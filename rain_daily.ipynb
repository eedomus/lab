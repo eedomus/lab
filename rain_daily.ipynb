{
  "nbformat": 4,
  "nbformat_minor": 0,
  "metadata": {
    "colab": {
      "provenance": [],
      "toc_visible": true,
      "authorship_tag": "ABX9TyO2Wp/Y1jGmii3ll2u0pChw"
    },
    "kernelspec": {
      "name": "python3",
      "display_name": "Python 3"
    },
    "language_info": {
      "name": "python"
    }
  },
  "cells": [
    {
      "cell_type": "code",
      "execution_count": null,
      "metadata": {
        "id": "W-vCSoAXmnc8"
      },
      "outputs": [],
      "source": [
        "# Using eedomus data for science exploration\n",
        "# Rain analysis in 2024 - after a high rain season\n",
        "# You should have a rain sensor with history on eedomus\n",
        "\n",
        "import requests\n",
        "import json\n",
        "import datetime\n",
        "\n",
        "import matplotlib.pyplot as plt\n",
        "from google.colab import userdata\n",
        "\n",
        "##Fetch the entire history\n",
        "##the secret urljsonrain http://api.eedomus.com/get?api_user=*******&api_secret=*******&action=periph.history&periph_id=9999\n",
        "urljson = userdata.get('urljsonrain')\n",
        "urljson = urljson+\"&format=json&start_date=&start_date=2024-01-01%2000:00:00\"\n",
        "response = json.loads(requests.get(urljson).text)\n",
        "data = response[\"body\"][\"history\"]\n",
        "\n",
        "\n",
        "serie=[]\n",
        "ttime=[] #in minute timestamp tz\n",
        "for items in data:\n",
        "    serie.append((float(items[0])))\n",
        "    tstamp=round(datetime.datetime.strptime(items[1], \"%Y-%m-%d %H:%M:%S\").timestamp())\n",
        "    ttime.append(tstamp)\n",
        "\n",
        "plt.plot(ttime, serie)\n",
        "plt.show()\n",
        "#beware the order of ttime is anti-chronological\n",
        "\n"
      ]
    },
    {
      "cell_type": "code",
      "source": [
        "## Convert the full list into a daily list\n",
        "\n",
        "#old time, oldts timestamp, old0 start of day\n",
        "old = ttime[-1]\n",
        "oldts = datetime.datetime.fromtimestamp(old)\n",
        "old0 = oldts.replace(hour=0, minute=0, second=0, microsecond=0)\n",
        "\n",
        "#Calculate the daily amount. First step : builging dailytime serie.\n",
        "dailytime=[]\n",
        "dailytime.append(old0)\n",
        "for index in range(len(ttime)-1, 0, -1):\n",
        "      indexts = datetime.datetime.fromtimestamp(ttime[index])\n",
        "      indexts0 = indexts.replace(hour=0, minute=0, second=0, microsecond=0)\n",
        "      if (indexts0.timestamp() > dailytime[-1].timestamp()):\n",
        "        dailytime.append(indexts0)\n",
        "\n",
        "#adding raw cumulative values in dailyseries (without subtracting per day)\n",
        "subindex = 0\n",
        "newvalue = True\n",
        "dailyserie=[]\n",
        "#dailyserie.append(serie[-1])\n",
        "#below check last value 0 or -1\n",
        "for index in range(len(ttime)-1, -1, -1):\n",
        "      indexts = datetime.datetime.fromtimestamp(ttime[index])\n",
        "      indexts0 = indexts.replace(hour=0, minute=0, second=0, microsecond=0)\n",
        "      if (indexts0.timestamp() > dailytime[subindex].timestamp()):\n",
        "        subindex += 1\n",
        "        newvalue = True\n",
        "      else:\n",
        "        nothing = 0\n",
        "      if newvalue :\n",
        "          dailyserie.append(serie[index])\n",
        "          newvalue=False\n",
        "\n",
        "## Convert the daily cumulative values into a daily differential value\n",
        "dailyrain=[]\n",
        "for i in range (len(dailyserie)-1):\n",
        "  dailyrain.append(dailyserie[i+1]-dailyserie[i])\n",
        "  if dailyrain[-1]<0:\n",
        "      dailyrain[-1]=0\n",
        "      print(\"counter reset\")\n",
        "\n",
        "#we add 0 on last value\n",
        "dailyrain.append(0)\n",
        "\n",
        "# Montana coefficient gives for the (dep77) location\n",
        "# rain mm (for 24H) = 8.26 * 1440 min ** (1 - 0.771) # happens every 5 years\n",
        "montana = 8.26*1440**(1-0.771)\n",
        "print(montana, \" mm in 24H, every 5 years\")\n",
        "\n",
        "plt.title('Daily Rain 2024')\n",
        "plt.ylabel('mm')\n",
        "plt.scatter(dailytime, dailyrain)\n",
        "plt.axhline(y=montana, color='r', linestyle='--')\n",
        "plt.tight_layout()\n",
        "plt.show()\n"
      ],
      "metadata": {
        "id": "8NgDpzD_nNmx"
      },
      "execution_count": null,
      "outputs": []
    },
    {
      "cell_type": "markdown",
      "source": [
        "![High daily rain](rain_dailyabove5yearsfrequency.png)",
        "\n",
        "As a conclusion, 2 points above the maximum rain every 5 years (nearly 3 points the same year).\n",
        "The Montana coefficient, calculated on 20 years or more, are probably not accurate any more."
      ],
      "metadata": {
        "id": "U_WS1rUun41x"
      }
    }
  ]
}
